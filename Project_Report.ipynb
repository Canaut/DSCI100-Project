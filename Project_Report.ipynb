{
 "cells": [
  {
   "cell_type": "code",
   "execution_count": 4,
   "metadata": {},
   "outputs": [],
   "source": [
    "library(repr)\n",
    "library(tidyverse)\n",
    "library(tidymodels)\n",
    "options(repr.matrix.max.rows = 6)"
   ]
  },
  {
   "cell_type": "code",
   "execution_count": 5,
   "metadata": {},
   "outputs": [
    {
     "name": "stderr",
     "output_type": "stream",
     "text": [
      "Parsed with column specification:\n",
      "cols(\n",
      "  .default = col_character(),\n",
      "  age = \u001b[32mcol_double()\u001b[39m,\n",
      "  Medu = \u001b[32mcol_double()\u001b[39m,\n",
      "  Fedu = \u001b[32mcol_double()\u001b[39m,\n",
      "  traveltime = \u001b[32mcol_double()\u001b[39m,\n",
      "  studytime = \u001b[32mcol_double()\u001b[39m,\n",
      "  failures = \u001b[32mcol_double()\u001b[39m,\n",
      "  famrel = \u001b[32mcol_double()\u001b[39m,\n",
      "  freetime = \u001b[32mcol_double()\u001b[39m,\n",
      "  goout = \u001b[32mcol_double()\u001b[39m,\n",
      "  Dalc = \u001b[32mcol_double()\u001b[39m,\n",
      "  Walc = \u001b[32mcol_double()\u001b[39m,\n",
      "  health = \u001b[32mcol_double()\u001b[39m,\n",
      "  absences = \u001b[32mcol_double()\u001b[39m,\n",
      "  G1 = \u001b[32mcol_double()\u001b[39m,\n",
      "  G2 = \u001b[32mcol_double()\u001b[39m,\n",
      "  G3 = \u001b[32mcol_double()\u001b[39m\n",
      ")\n",
      "\n",
      "See spec(...) for full column specifications.\n",
      "\n"
     ]
    }
   ],
   "source": [
    "temp <- tempfile()\n",
    "download.file(\"https://archive.ics.uci.edu/ml/machine-learning-databases/00320/student.zip\", temp)\n",
    "data <- read_delim(unz(temp, \"student-mat.csv\"), delim = \";\") %>% \n",
    "        select(age, absences, G1, G2, G3)\n",
    "unlink(temp)"
   ]
  },
  {
   "cell_type": "code",
   "execution_count": 6,
   "metadata": {},
   "outputs": [
    {
     "data": {
      "text/html": [
       "<table>\n",
       "<caption>A tibble: 298 × 5</caption>\n",
       "<thead>\n",
       "\t<tr><th scope=col>age</th><th scope=col>absences</th><th scope=col>G1</th><th scope=col>G2</th><th scope=col>G3</th></tr>\n",
       "\t<tr><th scope=col>&lt;dbl&gt;</th><th scope=col>&lt;dbl&gt;</th><th scope=col>&lt;dbl&gt;</th><th scope=col>&lt;dbl&gt;</th><th scope=col>&lt;dbl&gt;</th></tr>\n",
       "</thead>\n",
       "<tbody>\n",
       "\t<tr><td>18</td><td> 6</td><td>5</td><td>6</td><td> 6</td></tr>\n",
       "\t<tr><td>17</td><td> 4</td><td>5</td><td>5</td><td> 6</td></tr>\n",
       "\t<tr><td>15</td><td>10</td><td>7</td><td>8</td><td>10</td></tr>\n",
       "\t<tr><td>⋮</td><td>⋮</td><td>⋮</td><td>⋮</td><td>⋮</td></tr>\n",
       "\t<tr><td>21</td><td>3</td><td>10</td><td> 8</td><td> 7</td></tr>\n",
       "\t<tr><td>18</td><td>0</td><td>11</td><td>12</td><td>10</td></tr>\n",
       "\t<tr><td>19</td><td>5</td><td> 8</td><td> 9</td><td> 9</td></tr>\n",
       "</tbody>\n",
       "</table>\n"
      ],
      "text/latex": [
       "A tibble: 298 × 5\n",
       "\\begin{tabular}{lllll}\n",
       " age & absences & G1 & G2 & G3\\\\\n",
       " <dbl> & <dbl> & <dbl> & <dbl> & <dbl>\\\\\n",
       "\\hline\n",
       "\t 18 &  6 & 5 & 6 &  6\\\\\n",
       "\t 17 &  4 & 5 & 5 &  6\\\\\n",
       "\t 15 & 10 & 7 & 8 & 10\\\\\n",
       "\t ⋮ & ⋮ & ⋮ & ⋮ & ⋮\\\\\n",
       "\t 21 & 3 & 10 &  8 &  7\\\\\n",
       "\t 18 & 0 & 11 & 12 & 10\\\\\n",
       "\t 19 & 5 &  8 &  9 &  9\\\\\n",
       "\\end{tabular}\n"
      ],
      "text/markdown": [
       "\n",
       "A tibble: 298 × 5\n",
       "\n",
       "| age &lt;dbl&gt; | absences &lt;dbl&gt; | G1 &lt;dbl&gt; | G2 &lt;dbl&gt; | G3 &lt;dbl&gt; |\n",
       "|---|---|---|---|---|\n",
       "| 18 |  6 | 5 | 6 |  6 |\n",
       "| 17 |  4 | 5 | 5 |  6 |\n",
       "| 15 | 10 | 7 | 8 | 10 |\n",
       "| ⋮ | ⋮ | ⋮ | ⋮ | ⋮ |\n",
       "| 21 | 3 | 10 |  8 |  7 |\n",
       "| 18 | 0 | 11 | 12 | 10 |\n",
       "| 19 | 5 |  8 |  9 |  9 |\n",
       "\n"
      ],
      "text/plain": [
       "    age absences G1 G2 G3\n",
       "1   18   6       5  6   6\n",
       "2   17   4       5  5   6\n",
       "3   15  10       7  8  10\n",
       "⋮   ⋮   ⋮        ⋮  ⋮  ⋮ \n",
       "296 21  3        10  8  7\n",
       "297 18  0        11 12 10\n",
       "298 19  5         8  9  9"
      ]
     },
     "metadata": {},
     "output_type": "display_data"
    },
    {
     "data": {
      "text/html": [
       "<table>\n",
       "<caption>A tibble: 97 × 5</caption>\n",
       "<thead>\n",
       "\t<tr><th scope=col>age</th><th scope=col>absences</th><th scope=col>G1</th><th scope=col>G2</th><th scope=col>G3</th></tr>\n",
       "\t<tr><th scope=col>&lt;dbl&gt;</th><th scope=col>&lt;dbl&gt;</th><th scope=col>&lt;dbl&gt;</th><th scope=col>&lt;dbl&gt;</th><th scope=col>&lt;dbl&gt;</th></tr>\n",
       "</thead>\n",
       "<tbody>\n",
       "\t<tr><td>16</td><td>6</td><td>13</td><td>14</td><td>14</td></tr>\n",
       "\t<tr><td>16</td><td>4</td><td> 8</td><td>10</td><td>10</td></tr>\n",
       "\t<tr><td>16</td><td>2</td><td>15</td><td>15</td><td>16</td></tr>\n",
       "\t<tr><td>⋮</td><td>⋮</td><td>⋮</td><td>⋮</td><td>⋮</td></tr>\n",
       "\t<tr><td>18</td><td>14</td><td>6</td><td>5</td><td>5</td></tr>\n",
       "\t<tr><td>19</td><td> 0</td><td>7</td><td>5</td><td>0</td></tr>\n",
       "\t<tr><td>20</td><td>11</td><td>9</td><td>9</td><td>9</td></tr>\n",
       "</tbody>\n",
       "</table>\n"
      ],
      "text/latex": [
       "A tibble: 97 × 5\n",
       "\\begin{tabular}{lllll}\n",
       " age & absences & G1 & G2 & G3\\\\\n",
       " <dbl> & <dbl> & <dbl> & <dbl> & <dbl>\\\\\n",
       "\\hline\n",
       "\t 16 & 6 & 13 & 14 & 14\\\\\n",
       "\t 16 & 4 &  8 & 10 & 10\\\\\n",
       "\t 16 & 2 & 15 & 15 & 16\\\\\n",
       "\t ⋮ & ⋮ & ⋮ & ⋮ & ⋮\\\\\n",
       "\t 18 & 14 & 6 & 5 & 5\\\\\n",
       "\t 19 &  0 & 7 & 5 & 0\\\\\n",
       "\t 20 & 11 & 9 & 9 & 9\\\\\n",
       "\\end{tabular}\n"
      ],
      "text/markdown": [
       "\n",
       "A tibble: 97 × 5\n",
       "\n",
       "| age &lt;dbl&gt; | absences &lt;dbl&gt; | G1 &lt;dbl&gt; | G2 &lt;dbl&gt; | G3 &lt;dbl&gt; |\n",
       "|---|---|---|---|---|\n",
       "| 16 | 6 | 13 | 14 | 14 |\n",
       "| 16 | 4 |  8 | 10 | 10 |\n",
       "| 16 | 2 | 15 | 15 | 16 |\n",
       "| ⋮ | ⋮ | ⋮ | ⋮ | ⋮ |\n",
       "| 18 | 14 | 6 | 5 | 5 |\n",
       "| 19 |  0 | 7 | 5 | 0 |\n",
       "| 20 | 11 | 9 | 9 | 9 |\n",
       "\n"
      ],
      "text/plain": [
       "   age absences G1 G2 G3\n",
       "1  16  6        13 14 14\n",
       "2  16  4         8 10 10\n",
       "3  16  2        15 15 16\n",
       "⋮  ⋮   ⋮        ⋮  ⋮  ⋮ \n",
       "95 18  14       6  5  5 \n",
       "96 19   0       7  5  0 \n",
       "97 20  11       9  9  9 "
      ]
     },
     "metadata": {},
     "output_type": "display_data"
    }
   ],
   "source": [
    "set.seed(123)\n",
    "# splitting data into training data/testing data\n",
    "data_split <- initial_split(data, prop = 0.75, strata = G3)\n",
    "\n",
    "training_data <- training(data_split)\n",
    "testing_data <- testing(data_split)\n",
    "\n",
    "training_data\n",
    "testing_data"
   ]
  },
  {
   "cell_type": "code",
   "execution_count": null,
   "metadata": {},
   "outputs": [],
   "source": [
    "age_scatter <- ggplot(training_data, aes(x = age, y = G3)) +\n",
    "  geom_point() +\n",
    "  xlab(\"Student Age\") +\n",
    "  ylab(\"Third Period Grade (0-20 scale)\")  + \n",
    "  geom_smooth(method = \"lm\", formula = y ~ x, se = FALSE) + \n",
    "  theme(text = element_text(size = 18))"
   ]
  },
  {
   "cell_type": "code",
   "execution_count": null,
   "metadata": {},
   "outputs": [],
   "source": [
    "absences_scatter <- ggplot(training_data, aes(x = absences, y = G3)) +\n",
    "  geom_point() +\n",
    "  xlab(\"Number of School Absences\") +\n",
    "  ylab(\"Third Period Grade (0-20 scale)\")  +\n",
    "  geom_smooth(method = \"lm\", formula = y ~ x, se = FALSE) +\n",
    "  theme(text = element_text(size = 18))"
   ]
  },
  {
   "cell_type": "code",
   "execution_count": null,
   "metadata": {},
   "outputs": [],
   "source": [
    "G1_scatter <- ggplot(training_data, aes(x = G1, y = G3)) +\n",
    "  geom_point() +\n",
    "  xlab(\"First Period Grade (0-20 scale)\") +\n",
    "  ylab(\"Third Period Grade (0-20 scale)\") +\n",
    "  geom_smooth(method = \"lm\", formula = y ~ x, se = FALSE) + \n",
    "  theme(text = element_text(size = 18))"
   ]
  },
  {
   "cell_type": "code",
   "execution_count": null,
   "metadata": {},
   "outputs": [],
   "source": [
    "G2_scatter <- ggplot(training_data, aes(x = G2, y = G3)) +\n",
    "  geom_point() +\n",
    "  xlab(\"Second Period Grade (0-20 scale)\") +\n",
    "  ylab(\"Third Period Grade (0-20 scale)\") +\n",
    "  geom_smooth(method = \"lm\", formula = y ~ x, se = FALSE) + \n",
    "  theme(text = element_text(size = 18))"
   ]
  },
  {
   "cell_type": "code",
   "execution_count": null,
   "metadata": {},
   "outputs": [],
   "source": [
    "library(gridExtra)\n",
    "require(grid)\n",
    "options(repr.plot.width = 20, repr.plot.height = 10)\n",
    "grid.arrange(age_scatter, absences_scatter, G1_scatter, G2_scatter,\n",
    "             nrow=2,\n",
    "             top=textGrob(\"Scatter Plots of Predictor Variables\",\n",
    "                          gp=gpar(fontsize=16,font=10))\n",
    "            ) "
   ]
  },
  {
   "cell_type": "code",
   "execution_count": null,
   "metadata": {},
   "outputs": [],
   "source": [
    "lm_spec <- linear_reg() %>%\n",
    "  set_engine(\"lm\") %>%\n",
    "  set_mode(\"regression\")\n",
    "\n",
    "lm_recipe <- recipe(G3 ~ age + absences + G1 + G2, data = training_data)\n",
    "\n",
    "lm_fit <- workflow() %>%\n",
    "  add_recipe(lm_recipe) %>%\n",
    "  add_model(lm_spec) %>%\n",
    "  fit(data = training_data)\n",
    "lm_fit\n",
    "\n",
    "\n",
    "\n",
    "# G3 = 1.44581 -0.20750*age + 0.04795*absences + 0.14683*G1 + 0.98564*G2"
   ]
  },
  {
   "cell_type": "code",
   "execution_count": null,
   "metadata": {},
   "outputs": [],
   "source": [
    "lm_test_results <- lm_fit %>%\n",
    "  predict(testing_data) %>%\n",
    "  bind_cols(testing_data) %>%\n",
    "  metrics(truth = G3, estimate = .pred)\n",
    "lm_test_results"
   ]
  },
  {
   "cell_type": "code",
   "execution_count": null,
   "metadata": {},
   "outputs": [],
   "source": [
    "coeffs <- tidy(pull_workflow_fit(lm_fit))\n",
    "coeffs"
   ]
  },
  {
   "cell_type": "code",
   "execution_count": null,
   "metadata": {},
   "outputs": [],
   "source": []
  },
  {
   "cell_type": "code",
   "execution_count": null,
   "metadata": {},
   "outputs": [],
   "source": []
  },
  {
   "cell_type": "code",
   "execution_count": null,
   "metadata": {},
   "outputs": [],
   "source": []
  },
  {
   "cell_type": "code",
   "execution_count": null,
   "metadata": {},
   "outputs": [],
   "source": []
  }
 ],
 "metadata": {
  "kernelspec": {
   "display_name": "R",
   "language": "R",
   "name": "ir"
  },
  "language_info": {
   "codemirror_mode": "r",
   "file_extension": ".r",
   "mimetype": "text/x-r-source",
   "name": "R",
   "pygments_lexer": "r",
   "version": "4.0.0"
  }
 },
 "nbformat": 4,
 "nbformat_minor": 4
}
