{
 "cells": [
  {
   "cell_type": "code",
   "execution_count": 8,
   "metadata": {},
   "outputs": [
    {
     "name": "stderr",
     "output_type": "stream",
     "text": [
      "── \u001b[1mAttaching packages\u001b[22m ─────────────────────────────────────── tidyverse 1.3.0 ──\n",
      "\n",
      "\u001b[32m✔\u001b[39m \u001b[34mggplot2\u001b[39m 3.3.2     \u001b[32m✔\u001b[39m \u001b[34mpurrr  \u001b[39m 0.3.4\n",
      "\u001b[32m✔\u001b[39m \u001b[34mtibble \u001b[39m 3.0.3     \u001b[32m✔\u001b[39m \u001b[34mdplyr  \u001b[39m 1.0.2\n",
      "\u001b[32m✔\u001b[39m \u001b[34mtidyr  \u001b[39m 1.1.2     \u001b[32m✔\u001b[39m \u001b[34mstringr\u001b[39m 1.4.0\n",
      "\u001b[32m✔\u001b[39m \u001b[34mreadr  \u001b[39m 1.3.1     \u001b[32m✔\u001b[39m \u001b[34mforcats\u001b[39m 0.5.0\n",
      "\n",
      "Warning message:\n",
      "“package ‘ggplot2’ was built under R version 4.0.1”\n",
      "Warning message:\n",
      "“package ‘tibble’ was built under R version 4.0.2”\n",
      "Warning message:\n",
      "“package ‘tidyr’ was built under R version 4.0.2”\n",
      "Warning message:\n",
      "“package ‘dplyr’ was built under R version 4.0.2”\n",
      "── \u001b[1mConflicts\u001b[22m ────────────────────────────────────────── tidyverse_conflicts() ──\n",
      "\u001b[31m✖\u001b[39m \u001b[34mdplyr\u001b[39m::\u001b[32mfilter()\u001b[39m masks \u001b[34mstats\u001b[39m::filter()\n",
      "\u001b[31m✖\u001b[39m \u001b[34mdplyr\u001b[39m::\u001b[32mlag()\u001b[39m    masks \u001b[34mstats\u001b[39m::lag()\n",
      "\n",
      "Warning message:\n",
      "“package ‘tidymodels’ was built under R version 4.0.2”\n",
      "── \u001b[1mAttaching packages\u001b[22m ────────────────────────────────────── tidymodels 0.1.1 ──\n",
      "\n",
      "\u001b[32m✔\u001b[39m \u001b[34mbroom    \u001b[39m 0.7.0      \u001b[32m✔\u001b[39m \u001b[34mrecipes  \u001b[39m 0.1.13\n",
      "\u001b[32m✔\u001b[39m \u001b[34mdials    \u001b[39m 0.0.9      \u001b[32m✔\u001b[39m \u001b[34mrsample  \u001b[39m 0.0.7 \n",
      "\u001b[32m✔\u001b[39m \u001b[34minfer    \u001b[39m 0.5.4      \u001b[32m✔\u001b[39m \u001b[34mtune     \u001b[39m 0.1.1 \n",
      "\u001b[32m✔\u001b[39m \u001b[34mmodeldata\u001b[39m 0.0.2      \u001b[32m✔\u001b[39m \u001b[34mworkflows\u001b[39m 0.2.0 \n",
      "\u001b[32m✔\u001b[39m \u001b[34mparsnip  \u001b[39m 0.1.3      \u001b[32m✔\u001b[39m \u001b[34myardstick\u001b[39m 0.0.7 \n",
      "\n",
      "Warning message:\n",
      "“package ‘broom’ was built under R version 4.0.2”\n",
      "Warning message:\n",
      "“package ‘dials’ was built under R version 4.0.2”\n",
      "Warning message:\n",
      "“package ‘infer’ was built under R version 4.0.3”\n",
      "Warning message:\n",
      "“package ‘modeldata’ was built under R version 4.0.1”\n",
      "Warning message:\n",
      "“package ‘parsnip’ was built under R version 4.0.2”\n",
      "Warning message:\n",
      "“package ‘recipes’ was built under R version 4.0.1”\n",
      "Warning message:\n",
      "“package ‘tune’ was built under R version 4.0.2”\n",
      "Warning message:\n",
      "“package ‘workflows’ was built under R version 4.0.2”\n",
      "Warning message:\n",
      "“package ‘yardstick’ was built under R version 4.0.2”\n",
      "── \u001b[1mConflicts\u001b[22m ───────────────────────────────────────── tidymodels_conflicts() ──\n",
      "\u001b[31m✖\u001b[39m \u001b[34mscales\u001b[39m::\u001b[32mdiscard()\u001b[39m masks \u001b[34mpurrr\u001b[39m::discard()\n",
      "\u001b[31m✖\u001b[39m \u001b[34mdplyr\u001b[39m::\u001b[32mfilter()\u001b[39m   masks \u001b[34mstats\u001b[39m::filter()\n",
      "\u001b[31m✖\u001b[39m \u001b[34mrecipes\u001b[39m::\u001b[32mfixed()\u001b[39m  masks \u001b[34mstringr\u001b[39m::fixed()\n",
      "\u001b[31m✖\u001b[39m \u001b[34mdplyr\u001b[39m::\u001b[32mlag()\u001b[39m      masks \u001b[34mstats\u001b[39m::lag()\n",
      "\u001b[31m✖\u001b[39m \u001b[34myardstick\u001b[39m::\u001b[32mspec()\u001b[39m masks \u001b[34mreadr\u001b[39m::spec()\n",
      "\u001b[31m✖\u001b[39m \u001b[34mrecipes\u001b[39m::\u001b[32mstep()\u001b[39m   masks \u001b[34mstats\u001b[39m::step()\n",
      "\n"
     ]
    }
   ],
   "source": [
    "library(repr)\n",
    "library(tidyverse)\n",
    "library(tidymodels)\n",
    "options(repr.matrix.max.rows = 6)"
   ]
  },
  {
   "cell_type": "raw",
   "metadata": {},
   "source": [
    "temp <- tempfile()\n",
    "download.file(\"https://archive.ics.uci.edu/ml/machine-learning-databases/00320/student.zip\", temp)\n",
    "data <- read_delim(unz(temp, \"student-mat.csv\"), delim = \";\") %>% \n",
    "        select(age, absences, G1, G2, G3)\n",
    "unlink(temp)\n"
   ]
  },
  {
   "cell_type": "code",
   "execution_count": 24,
   "metadata": {},
   "outputs": [
    {
     "data": {
      "text/html": [
       "<table>\n",
       "<caption>A tibble: 298 × 5</caption>\n",
       "<thead>\n",
       "\t<tr><th scope=col>age</th><th scope=col>absences</th><th scope=col>G1</th><th scope=col>G2</th><th scope=col>G3</th></tr>\n",
       "\t<tr><th scope=col>&lt;dbl&gt;</th><th scope=col>&lt;dbl&gt;</th><th scope=col>&lt;dbl&gt;</th><th scope=col>&lt;dbl&gt;</th><th scope=col>&lt;dbl&gt;</th></tr>\n",
       "</thead>\n",
       "<tbody>\n",
       "\t<tr><td>18</td><td> 6</td><td>5</td><td> 6</td><td> 6</td></tr>\n",
       "\t<tr><td>15</td><td>10</td><td>7</td><td> 8</td><td>10</td></tr>\n",
       "\t<tr><td>16</td><td> 4</td><td>6</td><td>10</td><td>10</td></tr>\n",
       "\t<tr><td>⋮</td><td>⋮</td><td>⋮</td><td>⋮</td><td>⋮</td></tr>\n",
       "\t<tr><td>21</td><td>3</td><td>10</td><td> 8</td><td> 7</td></tr>\n",
       "\t<tr><td>18</td><td>0</td><td>11</td><td>12</td><td>10</td></tr>\n",
       "\t<tr><td>19</td><td>5</td><td> 8</td><td> 9</td><td> 9</td></tr>\n",
       "</tbody>\n",
       "</table>\n"
      ],
      "text/latex": [
       "A tibble: 298 × 5\n",
       "\\begin{tabular}{lllll}\n",
       " age & absences & G1 & G2 & G3\\\\\n",
       " <dbl> & <dbl> & <dbl> & <dbl> & <dbl>\\\\\n",
       "\\hline\n",
       "\t 18 &  6 & 5 &  6 &  6\\\\\n",
       "\t 15 & 10 & 7 &  8 & 10\\\\\n",
       "\t 16 &  4 & 6 & 10 & 10\\\\\n",
       "\t ⋮ & ⋮ & ⋮ & ⋮ & ⋮\\\\\n",
       "\t 21 & 3 & 10 &  8 &  7\\\\\n",
       "\t 18 & 0 & 11 & 12 & 10\\\\\n",
       "\t 19 & 5 &  8 &  9 &  9\\\\\n",
       "\\end{tabular}\n"
      ],
      "text/markdown": [
       "\n",
       "A tibble: 298 × 5\n",
       "\n",
       "| age &lt;dbl&gt; | absences &lt;dbl&gt; | G1 &lt;dbl&gt; | G2 &lt;dbl&gt; | G3 &lt;dbl&gt; |\n",
       "|---|---|---|---|---|\n",
       "| 18 |  6 | 5 |  6 |  6 |\n",
       "| 15 | 10 | 7 |  8 | 10 |\n",
       "| 16 |  4 | 6 | 10 | 10 |\n",
       "| ⋮ | ⋮ | ⋮ | ⋮ | ⋮ |\n",
       "| 21 | 3 | 10 |  8 |  7 |\n",
       "| 18 | 0 | 11 | 12 | 10 |\n",
       "| 19 | 5 |  8 |  9 |  9 |\n",
       "\n"
      ],
      "text/plain": [
       "    age absences G1 G2 G3\n",
       "1   18   6       5   6  6\n",
       "2   15  10       7   8 10\n",
       "3   16   4       6  10 10\n",
       "⋮   ⋮   ⋮        ⋮  ⋮  ⋮ \n",
       "296 21  3        10  8  7\n",
       "297 18  0        11 12 10\n",
       "298 19  5         8  9  9"
      ]
     },
     "metadata": {},
     "output_type": "display_data"
    },
    {
     "data": {
      "text/html": [
       "<table>\n",
       "<caption>A tibble: 97 × 5</caption>\n",
       "<thead>\n",
       "\t<tr><th scope=col>age</th><th scope=col>absences</th><th scope=col>G1</th><th scope=col>G2</th><th scope=col>G3</th></tr>\n",
       "\t<tr><th scope=col>&lt;dbl&gt;</th><th scope=col>&lt;dbl&gt;</th><th scope=col>&lt;dbl&gt;</th><th scope=col>&lt;dbl&gt;</th><th scope=col>&lt;dbl&gt;</th></tr>\n",
       "</thead>\n",
       "<tbody>\n",
       "\t<tr><td>17</td><td>4</td><td> 5</td><td> 5</td><td> 6</td></tr>\n",
       "\t<tr><td>15</td><td>2</td><td>15</td><td>14</td><td>15</td></tr>\n",
       "\t<tr><td>16</td><td>0</td><td>12</td><td>12</td><td>11</td></tr>\n",
       "\t<tr><td>⋮</td><td>⋮</td><td>⋮</td><td>⋮</td><td>⋮</td></tr>\n",
       "\t<tr><td>18</td><td>14</td><td> 6</td><td> 5</td><td> 5</td></tr>\n",
       "\t<tr><td>20</td><td>11</td><td> 9</td><td> 9</td><td> 9</td></tr>\n",
       "\t<tr><td>17</td><td> 3</td><td>14</td><td>16</td><td>16</td></tr>\n",
       "</tbody>\n",
       "</table>\n"
      ],
      "text/latex": [
       "A tibble: 97 × 5\n",
       "\\begin{tabular}{lllll}\n",
       " age & absences & G1 & G2 & G3\\\\\n",
       " <dbl> & <dbl> & <dbl> & <dbl> & <dbl>\\\\\n",
       "\\hline\n",
       "\t 17 & 4 &  5 &  5 &  6\\\\\n",
       "\t 15 & 2 & 15 & 14 & 15\\\\\n",
       "\t 16 & 0 & 12 & 12 & 11\\\\\n",
       "\t ⋮ & ⋮ & ⋮ & ⋮ & ⋮\\\\\n",
       "\t 18 & 14 &  6 &  5 &  5\\\\\n",
       "\t 20 & 11 &  9 &  9 &  9\\\\\n",
       "\t 17 &  3 & 14 & 16 & 16\\\\\n",
       "\\end{tabular}\n"
      ],
      "text/markdown": [
       "\n",
       "A tibble: 97 × 5\n",
       "\n",
       "| age &lt;dbl&gt; | absences &lt;dbl&gt; | G1 &lt;dbl&gt; | G2 &lt;dbl&gt; | G3 &lt;dbl&gt; |\n",
       "|---|---|---|---|---|\n",
       "| 17 | 4 |  5 |  5 |  6 |\n",
       "| 15 | 2 | 15 | 14 | 15 |\n",
       "| 16 | 0 | 12 | 12 | 11 |\n",
       "| ⋮ | ⋮ | ⋮ | ⋮ | ⋮ |\n",
       "| 18 | 14 |  6 |  5 |  5 |\n",
       "| 20 | 11 |  9 |  9 |  9 |\n",
       "| 17 |  3 | 14 | 16 | 16 |\n",
       "\n"
      ],
      "text/plain": [
       "   age absences G1 G2 G3\n",
       "1  17  4         5  5  6\n",
       "2  15  2        15 14 15\n",
       "3  16  0        12 12 11\n",
       "⋮  ⋮   ⋮        ⋮  ⋮  ⋮ \n",
       "95 18  14        6  5  5\n",
       "96 20  11        9  9  9\n",
       "97 17   3       14 16 16"
      ]
     },
     "metadata": {},
     "output_type": "display_data"
    }
   ],
   "source": [
    "# splitting data into training data/testing data\n",
    "data_split <- initial_split(data, prop = 0.75, strata = G3)\n",
    "\n",
    "training_data <- training(data_split)\n",
    "testing_data <- testing(data_split)\n",
    "\n",
    "training_data\n",
    "testing_data"
   ]
  },
  {
   "cell_type": "code",
   "execution_count": 43,
   "metadata": {},
   "outputs": [
    {
     "data": {
      "text/html": [
       "<table>\n",
       "<caption>A tibble: 1 × 3</caption>\n",
       "<thead>\n",
       "\t<tr><th scope=col>missing_G1</th><th scope=col>missing_G2</th><th scope=col>missing_G3</th></tr>\n",
       "\t<tr><th scope=col>&lt;int&gt;</th><th scope=col>&lt;int&gt;</th><th scope=col>&lt;int&gt;</th></tr>\n",
       "</thead>\n",
       "<tbody>\n",
       "\t<tr><td>0</td><td>0</td><td>0</td></tr>\n",
       "</tbody>\n",
       "</table>\n"
      ],
      "text/latex": [
       "A tibble: 1 × 3\n",
       "\\begin{tabular}{lll}\n",
       " missing\\_G1 & missing\\_G2 & missing\\_G3\\\\\n",
       " <int> & <int> & <int>\\\\\n",
       "\\hline\n",
       "\t 0 & 0 & 0\\\\\n",
       "\\end{tabular}\n"
      ],
      "text/markdown": [
       "\n",
       "A tibble: 1 × 3\n",
       "\n",
       "| missing_G1 &lt;int&gt; | missing_G2 &lt;int&gt; | missing_G3 &lt;int&gt; |\n",
       "|---|---|---|\n",
       "| 0 | 0 | 0 |\n",
       "\n"
      ],
      "text/plain": [
       "  missing_G1 missing_G2 missing_G3\n",
       "1 0          0          0         "
      ]
     },
     "metadata": {},
     "output_type": "display_data"
    },
    {
     "data": {
      "text/html": [
       "<table>\n",
       "<caption>A tibble: 1 × 4</caption>\n",
       "<thead>\n",
       "\t<tr><th scope=col>count</th><th scope=col>mean_G1</th><th scope=col>mean_G2</th><th scope=col>mean_G3</th></tr>\n",
       "\t<tr><th scope=col>&lt;int&gt;</th><th scope=col>&lt;dbl&gt;</th><th scope=col>&lt;dbl&gt;</th><th scope=col>&lt;dbl&gt;</th></tr>\n",
       "</thead>\n",
       "<tbody>\n",
       "\t<tr><td>298</td><td>11.02013</td><td>10.72483</td><td>10.49664</td></tr>\n",
       "</tbody>\n",
       "</table>\n"
      ],
      "text/latex": [
       "A tibble: 1 × 4\n",
       "\\begin{tabular}{llll}\n",
       " count & mean\\_G1 & mean\\_G2 & mean\\_G3\\\\\n",
       " <int> & <dbl> & <dbl> & <dbl>\\\\\n",
       "\\hline\n",
       "\t 298 & 11.02013 & 10.72483 & 10.49664\\\\\n",
       "\\end{tabular}\n"
      ],
      "text/markdown": [
       "\n",
       "A tibble: 1 × 4\n",
       "\n",
       "| count &lt;int&gt; | mean_G1 &lt;dbl&gt; | mean_G2 &lt;dbl&gt; | mean_G3 &lt;dbl&gt; |\n",
       "|---|---|---|---|\n",
       "| 298 | 11.02013 | 10.72483 | 10.49664 |\n",
       "\n"
      ],
      "text/plain": [
       "  count mean_G1  mean_G2  mean_G3 \n",
       "1 298   11.02013 10.72483 10.49664"
      ]
     },
     "metadata": {},
     "output_type": "display_data"
    }
   ],
   "source": [
    "# Summarizing training data\n",
    "training_count <- training_data %>% \n",
    "    summarize(count = n()) \n",
    "\n",
    "# Counting missing values\n",
    "missing_count <- training_data %>% \n",
    "    summarize(missing_G1 = sum(is.na(G1)), missing_G2 = sum(is.na(G2)), missing_G3 = sum(is.na(G3)))\n",
    "\n",
    "# Mean of Grades\n",
    "training_mean <- training_data %>% \n",
    "    summarize(mean_G1 = mean(G1), mean_G2 = mean(G2), mean_G3 = mean(G3))\n",
    "\n",
    "training_summary <- training_count %>% \n",
    "    bind_cols(training_mean, )\n",
    "\n",
    "training_summary\n",
    "    \n",
    "    "
   ]
  },
  {
   "cell_type": "code",
   "execution_count": null,
   "metadata": {},
   "outputs": [],
   "source": []
  }
 ],
 "metadata": {
  "kernelspec": {
   "display_name": "R",
   "language": "R",
   "name": "ir"
  },
  "language_info": {
   "codemirror_mode": "r",
   "file_extension": ".r",
   "mimetype": "text/x-r-source",
   "name": "R",
   "pygments_lexer": "r",
   "version": "4.0.0"
  }
 },
 "nbformat": 4,
 "nbformat_minor": 4
}
